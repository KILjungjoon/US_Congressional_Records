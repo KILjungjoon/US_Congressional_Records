{
  "nbformat": 4,
  "nbformat_minor": 0,
  "metadata": {
    "colab": {
      "provenance": [],
      "authorship_tag": "ABX9TyNgt54NVWGxRBJwTatHKxEB",
      "include_colab_link": true
    },
    "kernelspec": {
      "name": "python3",
      "display_name": "Python 3"
    },
    "language_info": {
      "name": "python"
    }
  },
  "cells": [
    {
      "cell_type": "markdown",
      "metadata": {
        "id": "view-in-github",
        "colab_type": "text"
      },
      "source": [
        "<a href=\"https://colab.research.google.com/github/KILjungjoon/US_Congressional_Records/blob/main/How_to_extract_the_text_from_US_congressional_bills%3F.ipynb\" target=\"_parent\"><img src=\"https://colab.research.google.com/assets/colab-badge.svg\" alt=\"Open In Colab\"/></a>"
      ]
    },
    {
      "cell_type": "code",
      "execution_count": 1,
      "metadata": {
        "colab": {
          "base_uri": "https://localhost:8080/"
        },
        "id": "N1rURBgsj8b_",
        "outputId": "b6ec400e-50dc-4b63-ae41-219921f99403"
      },
      "outputs": [
        {
          "output_type": "stream",
          "name": "stdout",
          "text": [
            "Looking in indexes: https://pypi.org/simple, https://us-python.pkg.dev/colab-wheels/public/simple/\n",
            "Requirement already satisfied: BeautifulSoup4 in /usr/local/lib/python3.10/dist-packages (4.11.2)\n",
            "Requirement already satisfied: soupsieve>1.2 in /usr/local/lib/python3.10/dist-packages (from BeautifulSoup4) (2.4.1)\n"
          ]
        }
      ],
      "source": [
        "!pip install BeautifulSoup4"
      ]
    },
    {
      "cell_type": "code",
      "source": [
        "from urllib.request import urlopen\n",
        "from bs4 import BeautifulSoup\n",
        "import requests\n",
        "import pandas as pd\n",
        "import urllib\n",
        "import json\n",
        "import re"
      ],
      "metadata": {
        "id": "R1WDNZXTktfU"
      },
      "execution_count": 2,
      "outputs": []
    },
    {
      "cell_type": "code",
      "source": [
        "api_key = \"[YOUR API KEY]\"\n",
        "\n",
        "url='https://api.congress.gov/v3/bill/116/s/1790/text?api_key='+api_key+''\n",
        "\n",
        "response = requests.get(url)\n",
        "soup = BeautifulSoup(response.content, \"html.parser\")\n",
        "data = json.loads(str(soup))\n",
        "\n",
        "urls = []\n",
        "for version in data['textVersions']:\n",
        "    for format in version['formats']:\n",
        "        if re.match(r'https.*\\.htm', format['url']):\n",
        "            urls.append(format['url'])\n",
        "\n",
        "url=urls[0]   # urls[0] is the text we desire\n",
        "\n",
        "response = requests.get(url)\n",
        "soup = BeautifulSoup(response.content, \"html.parser\").text\n",
        "text=soup.replace('<html><body><pre>','').replace('&lt;DOC&gt;','').replace('</pre></body></html>','').strip()\n",
        "print(text)"
      ],
      "metadata": {
        "id": "RExOtIUVk5Iq"
      },
      "execution_count": null,
      "outputs": []
    },
    {
      "cell_type": "code",
      "source": [
        "f=open('s1170_116th.txt', 'w', encoding='utf-8')\n",
        "f.write(text)\n",
        "f.close()"
      ],
      "metadata": {
        "id": "RzWXGhU_l809"
      },
      "execution_count": null,
      "outputs": []
    }
  ]
}