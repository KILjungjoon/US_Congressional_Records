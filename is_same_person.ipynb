{
 "cells": [
  {
   "cell_type": "code",
   "execution_count": 1,
   "id": "29d35d4d",
   "metadata": {
    "scrolled": true
   },
   "outputs": [
    {
     "name": "stdout",
     "output_type": "stream",
     "text": [
      "Requirement already satisfied: fuzzywuzzy in c:\\programdata\\anaconda3\\lib\\site-packages (0.18.0)\n",
      "Note: you may need to restart the kernel to use updated packages.\n"
     ]
    }
   ],
   "source": [
    "pip install fuzzywuzzy"
   ]
  },
  {
   "cell_type": "code",
   "execution_count": 2,
   "id": "2ac18672",
   "metadata": {},
   "outputs": [
    {
     "name": "stdout",
     "output_type": "stream",
     "text": [
      "Requirement already satisfied: python-Levenshtein in c:\\programdata\\anaconda3\\lib\\site-packages (0.21.1)\n",
      "Requirement already satisfied: Levenshtein==0.21.1 in c:\\programdata\\anaconda3\\lib\\site-packages (from python-Levenshtein) (0.21.1)\n",
      "Requirement already satisfied: rapidfuzz<4.0.0,>=2.3.0 in c:\\programdata\\anaconda3\\lib\\site-packages (from Levenshtein==0.21.1->python-Levenshtein) (3.1.1)\n",
      "Note: you may need to restart the kernel to use updated packages.\n"
     ]
    }
   ],
   "source": [
    "pip install python-Levenshtein"
   ]
  },
  {
   "cell_type": "code",
   "execution_count": 4,
   "id": "f149408d",
   "metadata": {},
   "outputs": [
    {
     "name": "stdout",
     "output_type": "stream",
     "text": [
      "The names are referring to the same person.\n"
     ]
    }
   ],
   "source": [
    "from fuzzywuzzy import fuzz\n",
    "\n",
    "def is_same_person1(name1, name2):\n",
    "    # Calculate the similarity score between the names\n",
    "    similarity = fuzz.token_sort_ratio(name1, name2)\n",
    "    \n",
    "    # Define a threshold for considering names as the same person\n",
    "    similarity_threshold = 79  # Adjust this value as needed\n",
    "    \n",
    "    # Compare the similarity score with the threshold\n",
    "    if similarity >= similarity_threshold:\n",
    "        return True\n",
    "    else:\n",
    "        return False\n",
    "\n",
    "# Example usage\n",
    "official_name = \"McGovern, Jim\"\n",
    "actual_name = \"McGovern, James “Jim”\"\n",
    "\n",
    "if is_same_person1(official_name, actual_name):\n",
    "    print(\"The names are referring to the same person.\")\n",
    "else:\n",
    "    print(\"The names are different.\")"
   ]
  },
  {
   "cell_type": "code",
   "execution_count": 5,
   "id": "d3b8bb42",
   "metadata": {},
   "outputs": [
    {
     "name": "stdout",
     "output_type": "stream",
     "text": [
      "The names are referring to the same person.\n"
     ]
    }
   ],
   "source": [
    "def is_same_person2(names1, names2):\n",
    "    names1_lower = [name.lower() for name in names1]\n",
    "    names2_lower = [name.lower() for name in names2]\n",
    "    \n",
    "    intersection = set(names1_lower) & set(names2_lower)\n",
    "    \n",
    "    if len(intersection) >= 2:\n",
    "        print(\"The names are referring to the same person.\")\n",
    "    else:\n",
    "        print(\"The names are different.\")\n",
    "\n",
    "# Example usage\n",
    "names1 = 'McGovern, James \\\"Jim\\\"'\n",
    "names2 = 'McGovern, Jim'\n",
    "is_same_person2(names1, names2)"
   ]
  }
 ],
 "metadata": {
  "kernelspec": {
   "display_name": "Python 3 (ipykernel)",
   "language": "python",
   "name": "python3"
  },
  "language_info": {
   "codemirror_mode": {
    "name": "ipython",
    "version": 3
   },
   "file_extension": ".py",
   "mimetype": "text/x-python",
   "name": "python",
   "nbconvert_exporter": "python",
   "pygments_lexer": "ipython3",
   "version": "3.9.13"
  }
 },
 "nbformat": 4,
 "nbformat_minor": 5
}
